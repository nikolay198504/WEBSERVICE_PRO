{
 "cells": [
  {
   "cell_type": "code",
   "execution_count": 1,
   "metadata": {},
   "outputs": [
    {
     "name": "stdout",
     "output_type": "stream",
     "text": [
      "[\"Hello\"]\n"
     ]
    }
   ],
   "source": [
    "import requests\n",
    "response = requests.post('http://127.0.0.1:8000/test')\n",
    "print(response.text)"
   ]
  },
  {
   "cell_type": "code",
   "execution_count": 2,
   "metadata": {},
   "outputs": [
    {
     "name": "stdout",
     "output_type": "stream",
     "text": [
      "{'message': 'Наша компания, АльфаСтрахование, предоставляет страховые услуги. '\n",
      "            'Мы занимаемся страхованием деятельности, связанной с авиационной '\n",
      "            'и космической техникой. Это включает в себя страхование '\n",
      "            'производственной деятельности, которая включает работы и услуги, '\n",
      "            'выполняемые сертифицированными изготовителями и поставщиками, '\n",
      "            'связанные с изготовлением, поставкой, обслуживанием, ремонтом, '\n",
      "            'продлением ресурсов и сроков службы, доработкой и модернизацией '\n",
      "            'авиационной и космической техники. Также мы страхуем деятельность '\n",
      "            'разработчиков, которые производят проектную, расчетную, '\n",
      "            'конструкторскую, эксплуатационную и другую документацию для '\n",
      "            'реализации производства, испытаний и эксплуатации авиационной и '\n",
      "            'космической техники.'}\n"
     ]
    }
   ],
   "source": [
    "import requests\n",
    "import pprint\n",
    "\n",
    "param = {\n",
    "    'text': 'Чем занимается ваша компания?'\n",
    "}\n",
    "response = requests.post('http://127.0.0.1:8000/api/get_answer', json=param)\n",
    "pprint.pprint(response.json())\n"
   ]
  },
  {
   "cell_type": "code",
   "execution_count": 3,
   "metadata": {},
   "outputs": [
    {
     "name": "stdout",
     "output_type": "stream",
     "text": [
      "{'total_get_answer_requests': 1}\n"
     ]
    }
   ],
   "source": [
    "import requests\n",
    "import pprint\n",
    "\n",
    "# Пример запроса к новому эндпоинту для получения количества обращений\n",
    "response = requests.get('http://127.0.0.1:8000/api/request_count')\n",
    "pprint.pprint(response.json())\n"
   ]
  }
 ],
 "metadata": {
  "kernelspec": {
   "display_name": "venv",
   "language": "python",
   "name": "python3"
  },
  "language_info": {
   "codemirror_mode": {
    "name": "ipython",
    "version": 3
   },
   "file_extension": ".py",
   "mimetype": "text/x-python",
   "name": "python",
   "nbconvert_exporter": "python",
   "pygments_lexer": "ipython3",
   "version": "3.11.5"
  }
 },
 "nbformat": 4,
 "nbformat_minor": 2
}
